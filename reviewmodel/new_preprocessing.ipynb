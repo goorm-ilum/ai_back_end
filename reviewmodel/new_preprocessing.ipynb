{
  "cells": [
    {
      "cell_type": "code",
      "execution_count": 10,
      "id": "1d6c519e",
      "metadata": {
        "colab": {
          "base_uri": "https://localhost:8080/"
        },
        "collapsed": true,
        "id": "1d6c519e",
        "outputId": "0a26ec50-c348-4a83-f7ca-30789735f2b9"
      },
      "outputs": [
        {
          "output_type": "stream",
          "name": "stdout",
          "text": [
            "Collecting fastparquet\n",
            "  Downloading fastparquet-2024.11.0-cp311-cp311-manylinux_2_17_x86_64.manylinux2014_x86_64.whl.metadata (4.2 kB)\n",
            "Requirement already satisfied: pandas>=1.5.0 in /usr/local/lib/python3.11/dist-packages (from fastparquet) (2.2.2)\n",
            "Requirement already satisfied: numpy in /usr/local/lib/python3.11/dist-packages (from fastparquet) (2.0.2)\n",
            "Requirement already satisfied: cramjam>=2.3 in /usr/local/lib/python3.11/dist-packages (from fastparquet) (2.11.0)\n",
            "Requirement already satisfied: fsspec in /usr/local/lib/python3.11/dist-packages (from fastparquet) (2025.3.0)\n",
            "Requirement already satisfied: packaging in /usr/local/lib/python3.11/dist-packages (from fastparquet) (25.0)\n",
            "Requirement already satisfied: python-dateutil>=2.8.2 in /usr/local/lib/python3.11/dist-packages (from pandas>=1.5.0->fastparquet) (2.9.0.post0)\n",
            "Requirement already satisfied: pytz>=2020.1 in /usr/local/lib/python3.11/dist-packages (from pandas>=1.5.0->fastparquet) (2025.2)\n",
            "Requirement already satisfied: tzdata>=2022.7 in /usr/local/lib/python3.11/dist-packages (from pandas>=1.5.0->fastparquet) (2025.2)\n",
            "Requirement already satisfied: six>=1.5 in /usr/local/lib/python3.11/dist-packages (from python-dateutil>=2.8.2->pandas>=1.5.0->fastparquet) (1.17.0)\n",
            "Downloading fastparquet-2024.11.0-cp311-cp311-manylinux_2_17_x86_64.manylinux2014_x86_64.whl (1.8 MB)\n",
            "\u001b[?25l   \u001b[90m━━━━━━━━━━━━━━━━━━━━━━━━━━━━━━━━━━━━━━━━\u001b[0m \u001b[32m0.0/1.8 MB\u001b[0m \u001b[31m?\u001b[0m eta \u001b[36m-:--:--\u001b[0m\r\u001b[2K   \u001b[90m━━━━━━━━━━━━━━━━━━━━━━━━━━━━━━━━━━━━━━━━\u001b[0m \u001b[32m1.8/1.8 MB\u001b[0m \u001b[31m59.0 MB/s\u001b[0m eta \u001b[36m0:00:00\u001b[0m\n",
            "\u001b[?25hInstalling collected packages: fastparquet\n",
            "Successfully installed fastparquet-2024.11.0\n"
          ]
        }
      ],
      "source": [
        "# !pip install -q pandas numpy scikit-learn transformers torch\n",
        "!pip install fastparquet"
      ]
    },
    {
      "cell_type": "code",
      "execution_count": 2,
      "id": "8feddf88",
      "metadata": {
        "id": "8feddf88"
      },
      "outputs": [],
      "source": [
        "import os\n",
        "import glob\n",
        "import json\n",
        "import pandas as pd\n",
        "from sklearn.preprocessing import LabelEncoder\n",
        "from transformers import AutoTokenizer\n",
        "import torch"
      ]
    },
    {
      "cell_type": "code",
      "source": [
        "from google.colab import drive\n",
        "drive.mount('/content/drive')"
      ],
      "metadata": {
        "colab": {
          "base_uri": "https://localhost:8080/"
        },
        "id": "mjTIOzGZKwH-",
        "outputId": "ff8e36aa-9d8e-4378-a1e6-9649384ededc"
      },
      "id": "mjTIOzGZKwH-",
      "execution_count": 3,
      "outputs": [
        {
          "output_type": "stream",
          "name": "stdout",
          "text": [
            "Mounted at /content/drive\n"
          ]
        }
      ]
    },
    {
      "cell_type": "code",
      "execution_count": 4,
      "id": "3d0d6753",
      "metadata": {
        "id": "3d0d6753"
      },
      "outputs": [],
      "source": [
        "def extract_aspects_from_json(file_path):\n",
        "    with open(file_path, \"r\", encoding=\"utf-8\") as f:\n",
        "        data = json.load(f)\n",
        "\n",
        "    records = []\n",
        "\n",
        "    # data가 dict이면 단일 처리, list면 각 원소 처리\n",
        "    data_items = data if isinstance(data, list) else [data]\n",
        "\n",
        "    for item in data_items:\n",
        "        aspects_list = item.get(\"Aspects\", [])  # 각 item이 dict라고 가정\n",
        "        for aspect in aspects_list:\n",
        "            records.append({\n",
        "                \"text\": aspect.get(\"SentimentText\", \"\"),\n",
        "                \"aspect\": aspect.get(\"Aspect\", \"Unknown\"),\n",
        "                \"polarity\": int(aspect.get(\"SentimentPolarity\", 0))\n",
        "            })\n",
        "    return records\n"
      ]
    },
    {
      "cell_type": "code",
      "source": [
        "def load_dataset(folder_path):\n",
        "    all_data = []\n",
        "    for file_path in glob.glob(os.path.join(folder_path, \"**\", \"*.json\"), recursive=True):\n",
        "        all_data.extend(extract_aspects_from_json(file_path))\n",
        "    return pd.DataFrame(all_data)\n"
      ],
      "metadata": {
        "id": "vBKVoiYBiiat"
      },
      "id": "vBKVoiYBiiat",
      "execution_count": 6,
      "outputs": []
    },
    {
      "cell_type": "code",
      "source": [
        "# 구글 드라이브에 저장한 parquet 파일 불러오기\n",
        "df_train = pd.read_parquet(\"./train.parquet\", engine=\"fastparquet\")\n",
        "df_val = pd.read_parquet(\"./val.parquet\", engine=\"fastparquet\")\n",
        "\n",
        "print(\"Training 데이터 개수:\", len(df_train))\n",
        "print(\"Validation 데이터 개수:\", len(df_val))"
      ],
      "metadata": {
        "colab": {
          "base_uri": "https://localhost:8080/"
        },
        "id": "MxGIMK7KlIMo",
        "outputId": "faf4fb0d-2732-4afa-eed0-e2ab30955ccb"
      },
      "id": "MxGIMK7KlIMo",
      "execution_count": 12,
      "outputs": [
        {
          "output_type": "stream",
          "name": "stdout",
          "text": [
            "Training 데이터 개수: 629755\n",
            "Validation 데이터 개수: 85611\n"
          ]
        }
      ]
    },
    {
      "cell_type": "markdown",
      "id": "e65f6b24",
      "metadata": {
        "id": "e65f6b24"
      },
      "source": [
        "# 라벨 인코딩 진행"
      ]
    },
    {
      "cell_type": "code",
      "execution_count": 13,
      "id": "9413651a",
      "metadata": {
        "id": "9413651a"
      },
      "outputs": [],
      "source": [
        "from sklearn.preprocessing import LabelEncoder\n",
        "\n",
        "# Aspect 인코딩\n",
        "aspect_encoder = LabelEncoder()\n",
        "df_train[\"aspect_label\"] = aspect_encoder.fit_transform(df_train[\"aspect\"])\n",
        "df_val[\"aspect_label\"] = aspect_encoder.transform(df_val[\"aspect\"])\n",
        "\n",
        "# Polarity 인코딩\n",
        "polarity_mapping = {-1:0, 0:1, 1:2}\n",
        "df_train[\"polarity_label\"] = df_train[\"polarity\"].map(polarity_mapping)\n",
        "df_val[\"polarity_label\"] = df_val[\"polarity\"].map(polarity_mapping)\n"
      ]
    },
    {
      "cell_type": "markdown",
      "id": "c3983482",
      "metadata": {
        "id": "c3983482"
      },
      "source": [
        "# 토크나이징"
      ]
    },
    {
      "cell_type": "code",
      "execution_count": 14,
      "id": "c1446964",
      "metadata": {
        "id": "c1446964",
        "colab": {
          "base_uri": "https://localhost:8080/",
          "height": 245,
          "referenced_widgets": [
            "4178550392314367b942e0b20d7b66e4",
            "ffa3fa7a925e4b2bbeca64d5e2f2ed32",
            "a512b94a5c58423f8e1d84d49da78968",
            "fb04e2aa0f934ea8a887571bea7fd418",
            "62114574b8d4408c969431839f1070eb",
            "945002f2743643c59cfdfffff923dff6",
            "b21dae8360304b2b832c56f2c32e3066",
            "d7f1915796fe4e90a7cf75710b2b8163",
            "1be8c0eac43f4415bcecf7c878f19fe8",
            "517d7653b2de4d2cb311403c7b5ff6de",
            "bf93405ac9354b25831377338aedcbe1",
            "69fe2dc8ffe645779778d9d3040daba4",
            "4c187261ae7f4a5db8a96e3dcc36f3fc",
            "10db827befd14a5eaf5ebede58b165b8",
            "b9da2a9cb83d44b1b337652a75dbfc02",
            "1b54f9f35649423991d38cf91ca413cf",
            "3f411b8da8454337a3c080e0b66768b9",
            "b94616e779a741bfb148411794aa3e9e",
            "af9a62b8b3424625a607fb5aeabc219b",
            "da2a6c5f293c4924aade2c253f10e866",
            "922f38ef2ac24c9088dad40285721767",
            "b76d072ac3f341448bcd72d05d21b50a",
            "d8e121eda9f54f7e80f287c400d460bc",
            "ecf4b781438945388f487c2f5dd3afd2",
            "1f95e061e366403c8ef5992354ca4018",
            "a6f144d6a529460a9f6b84d5bac555d1",
            "a11469aac9b14a53a96cce0a8f5d2740",
            "51cf8af18bd944718568d8e3428e936a",
            "23ba792e460f4141ab1872638fd6e6e6",
            "f0ee22781cc44812a437a41e26f0531c",
            "f37b11e6e3fe4c1899b1aec9c5cbdbb1",
            "b403a9d8e87d409eacb0b8858fd63aa2",
            "1c58b724d0384f3e9e65204b2f72e60b"
          ]
        },
        "outputId": "badc5ed0-5f7c-4e4c-96d4-c914366fde11"
      },
      "outputs": [
        {
          "output_type": "stream",
          "name": "stderr",
          "text": [
            "/usr/local/lib/python3.11/dist-packages/huggingface_hub/utils/_auth.py:94: UserWarning: \n",
            "The secret `HF_TOKEN` does not exist in your Colab secrets.\n",
            "To authenticate with the Hugging Face Hub, create a token in your settings tab (https://huggingface.co/settings/tokens), set it as secret in your Google Colab and restart your session.\n",
            "You will be able to reuse this secret in all of your notebooks.\n",
            "Please note that authentication is recommended but still optional to access public models or datasets.\n",
            "  warnings.warn(\n"
          ]
        },
        {
          "output_type": "display_data",
          "data": {
            "text/plain": [
              "tokenizer_config.json:   0%|          | 0.00/61.0 [00:00<?, ?B/s]"
            ],
            "application/vnd.jupyter.widget-view+json": {
              "version_major": 2,
              "version_minor": 0,
              "model_id": "4178550392314367b942e0b20d7b66e4"
            }
          },
          "metadata": {}
        },
        {
          "output_type": "display_data",
          "data": {
            "text/plain": [
              "config.json:   0%|          | 0.00/467 [00:00<?, ?B/s]"
            ],
            "application/vnd.jupyter.widget-view+json": {
              "version_major": 2,
              "version_minor": 0,
              "model_id": "69fe2dc8ffe645779778d9d3040daba4"
            }
          },
          "metadata": {}
        },
        {
          "output_type": "display_data",
          "data": {
            "text/plain": [
              "vocab.txt: 0.00B [00:00, ?B/s]"
            ],
            "application/vnd.jupyter.widget-view+json": {
              "version_major": 2,
              "version_minor": 0,
              "model_id": "d8e121eda9f54f7e80f287c400d460bc"
            }
          },
          "metadata": {}
        }
      ],
      "source": [
        "from transformers import AutoTokenizer\n",
        "\n",
        "tokenizer = AutoTokenizer.from_pretrained(\"monologg/koelectra-base-v3-discriminator\")\n",
        "\n",
        "train_encodings = tokenizer(\n",
        "    df_train[\"text\"].tolist(),\n",
        "    truncation=True,\n",
        "    padding=True,\n",
        "    max_length=128\n",
        ")\n",
        "val_encodings = tokenizer(\n",
        "    df_val[\"text\"].tolist(),\n",
        "    truncation=True,\n",
        "    padding=True,\n",
        "    max_length=128\n",
        ")\n"
      ]
    },
    {
      "cell_type": "markdown",
      "id": "2ad6810e",
      "metadata": {
        "id": "2ad6810e"
      },
      "source": [
        "# Dataset 객체"
      ]
    },
    {
      "cell_type": "code",
      "execution_count": 15,
      "id": "b3e8ac57",
      "metadata": {
        "id": "b3e8ac57"
      },
      "outputs": [],
      "source": [
        "import torch\n",
        "\n",
        "class AspectDataset(torch.utils.data.Dataset):\n",
        "    def __init__(self, encodings, aspect_labels, polarity_labels):\n",
        "        self.encodings = encodings\n",
        "        self.aspect_labels = aspect_labels\n",
        "        self.polarity_labels = polarity_labels\n",
        "\n",
        "    def __getitem__(self, idx):\n",
        "        item = {key: torch.tensor(val[idx]) for key, val in self.encodings.items()}\n",
        "        item[\"aspect_labels\"] = torch.tensor(self.aspect_labels[idx])\n",
        "        item[\"polarity_labels\"] = torch.tensor(self.polarity_labels[idx])\n",
        "        return item\n",
        "\n",
        "    def __len__(self):\n",
        "        return len(self.aspect_labels)\n",
        "\n",
        "train_dataset = AspectDataset(train_encodings, df_train[\"aspect_label\"].tolist(), df_train[\"polarity_label\"].tolist())\n",
        "val_dataset = AspectDataset(val_encodings, df_val[\"aspect_label\"].tolist(), df_val[\"polarity_label\"].tolist())\n"
      ]
    },
    {
      "cell_type": "markdown",
      "id": "e406b2b2",
      "metadata": {
        "id": "e406b2b2"
      },
      "source": [
        "# DataLoader 생성"
      ]
    },
    {
      "cell_type": "code",
      "execution_count": 28,
      "id": "d56fae9e",
      "metadata": {
        "id": "d56fae9e"
      },
      "outputs": [],
      "source": [
        "from torch.utils.data import DataLoader\n",
        "\n",
        "train_loader = DataLoader(train_dataset, batch_size=160 , shuffle=True)\n",
        "val_loader = DataLoader(val_dataset, batch_size=160 , shuffle=False)\n"
      ]
    },
    {
      "cell_type": "markdown",
      "id": "518c5c24",
      "metadata": {
        "id": "518c5c24"
      },
      "source": [
        "# 모델 정의"
      ]
    },
    {
      "cell_type": "code",
      "execution_count": 29,
      "id": "00e8a072",
      "metadata": {
        "id": "00e8a072"
      },
      "outputs": [],
      "source": [
        "import torch\n",
        "import torch.nn as nn\n",
        "from transformers import AutoModel\n",
        "\n",
        "class KoELECTRAMultiTask(nn.Module):\n",
        "    def __init__(self, model_name, num_aspect_classes, num_polarity_classes):\n",
        "        super().__init__()\n",
        "        self.koelectra = AutoModel.from_pretrained(model_name)\n",
        "        hidden_size = self.koelectra.config.hidden_size\n",
        "\n",
        "        # Aspect 분류기\n",
        "        self.aspect_classifier = nn.Linear(hidden_size, num_aspect_classes)\n",
        "        # Polarity 분류기\n",
        "        self.polarity_classifier = nn.Linear(hidden_size, num_polarity_classes)\n",
        "\n",
        "    def forward(self, input_ids, attention_mask):\n",
        "        outputs = self.koelectra(input_ids=input_ids, attention_mask=attention_mask)\n",
        "        pooled_output = outputs.last_hidden_state[:,0]  # [CLS] token 사용\n",
        "\n",
        "        aspect_logits = self.aspect_classifier(pooled_output)\n",
        "        polarity_logits = self.polarity_classifier(pooled_output)\n",
        "\n",
        "        return aspect_logits, polarity_logits\n"
      ]
    },
    {
      "cell_type": "markdown",
      "id": "f5732999",
      "metadata": {
        "id": "f5732999"
      },
      "source": [
        "# 학습 준비"
      ]
    },
    {
      "cell_type": "code",
      "execution_count": 30,
      "id": "95f87e37",
      "metadata": {
        "id": "95f87e37"
      },
      "outputs": [],
      "source": [
        "from torch.optim import AdamW\n",
        "from torch.nn import CrossEntropyLoss\n",
        "\n",
        "device = torch.device(\"cuda\" if torch.cuda.is_available() else \"cpu\")\n",
        "\n",
        "num_aspect_classes = len(aspect_encoder.classes_)\n",
        "num_polarity_classes = 3\n",
        "\n",
        "model = KoELECTRAMultiTask(\"monologg/koelectra-base-v3-discriminator\",\n",
        "                           num_aspect_classes, num_polarity_classes)\n",
        "model.to(device)\n",
        "\n",
        "optimizer = AdamW(model.parameters(), lr=2e-5)\n",
        "criterion = CrossEntropyLoss()\n"
      ]
    },
    {
      "cell_type": "markdown",
      "id": "9a8af8c1",
      "metadata": {
        "id": "9a8af8c1"
      },
      "source": [
        "# 학습 진행과 평가"
      ]
    },
    {
      "cell_type": "code",
      "execution_count": null,
      "id": "96656b44",
      "metadata": {
        "id": "96656b44",
        "colab": {
          "base_uri": "https://localhost:8080/"
        },
        "outputId": "565e1243-1e27-4d39-ddfd-37c00bbd9a9d"
      },
      "outputs": [
        {
          "output_type": "stream",
          "name": "stdout",
          "text": [
            "Epoch 1/100, Loss: 1.4029, Aspect Acc: 0.7931, Polarity Acc: 0.9574\n"
          ]
        }
      ],
      "source": [
        "import torch\n",
        "from sklearn.metrics import accuracy_score\n",
        "import matplotlib.pyplot as plt\n",
        "\n",
        "epochs = 100\n",
        "train_losses = []\n",
        "val_aspect_accs = []\n",
        "val_polarity_accs = []\n",
        "\n",
        "# Early Stopping 설정\n",
        "best_aspect_acc = 0.0   # 최고 Aspect Accuracy\n",
        "patience = 5            # patience 동안 개선 없으면 종료\n",
        "counter = 0             # 개선 없을 때 증가\n",
        "\n",
        "for epoch in range(epochs):\n",
        "    # --- Training ---\n",
        "    model.train()\n",
        "    total_loss = 0\n",
        "\n",
        "    for batch in train_loader:\n",
        "        optimizer.zero_grad()\n",
        "        input_ids = batch['input_ids'].to(device)\n",
        "        attention_mask = batch['attention_mask'].to(device)\n",
        "        aspect_labels = batch['aspect_labels'].to(device)\n",
        "        polarity_labels = batch['polarity_labels'].to(device)\n",
        "\n",
        "        aspect_logits, polarity_logits = model(input_ids, attention_mask)\n",
        "\n",
        "        loss_aspect = criterion(aspect_logits, aspect_labels)\n",
        "        loss_polarity = criterion(polarity_logits, polarity_labels)\n",
        "        loss = loss_aspect + loss_polarity\n",
        "\n",
        "        loss.backward()\n",
        "        optimizer.step()\n",
        "        total_loss += loss.item()\n",
        "\n",
        "    avg_loss = total_loss / len(train_loader)\n",
        "    train_losses.append(avg_loss)\n",
        "\n",
        "    # --- Validation ---\n",
        "    model.eval()\n",
        "    all_aspect_preds, all_aspect_labels = [], []\n",
        "    all_polarity_preds, all_polarity_labels = [], []\n",
        "\n",
        "    with torch.no_grad():\n",
        "        for batch in val_loader:\n",
        "            input_ids = batch['input_ids'].to(device)\n",
        "            attention_mask = batch['attention_mask'].to(device)\n",
        "            aspect_labels = batch['aspect_labels'].to(device)\n",
        "            polarity_labels = batch['polarity_labels'].to(device)\n",
        "\n",
        "            aspect_logits, polarity_logits = model(input_ids, attention_mask)\n",
        "            aspect_preds = torch.argmax(aspect_logits, dim=1)\n",
        "            polarity_preds = torch.argmax(polarity_logits, dim=1)\n",
        "\n",
        "            all_aspect_preds.extend(aspect_preds.cpu().numpy())\n",
        "            all_aspect_labels.extend(aspect_labels.cpu().numpy())\n",
        "            all_polarity_preds.extend(polarity_preds.cpu().numpy())\n",
        "            all_polarity_labels.extend(polarity_labels.cpu().numpy())\n",
        "\n",
        "    aspect_acc = accuracy_score(all_aspect_labels, all_aspect_preds)\n",
        "    polarity_acc = accuracy_score(all_polarity_labels, all_polarity_preds)\n",
        "    val_aspect_accs.append(aspect_acc)\n",
        "    val_polarity_accs.append(polarity_acc)\n",
        "\n",
        "    print(f\"Epoch {epoch+1}/{epochs}, Loss: {avg_loss:.4f}, \"\n",
        "          f\"Aspect Acc: {aspect_acc:.4f}, Polarity Acc: {polarity_acc:.4f}\")\n",
        "\n",
        "    # --- 모델 저장 (모든 epoch) ---\n",
        "    torch.save({\n",
        "        'epoch': epoch,\n",
        "        'model_state_dict': model.state_dict(),\n",
        "        'optimizer_state_dict': optimizer.state_dict(),\n",
        "        'loss': avg_loss,\n",
        "    }, f\"checkpoint_epoch{epoch+1}.pt\")\n",
        "\n",
        "    # --- Early Stopping 체크 ---\n",
        "    if aspect_acc > best_aspect_acc:\n",
        "        best_aspect_acc = aspect_acc\n",
        "        counter = 0\n",
        "        # 가장 좋은 모델 저장\n",
        "        torch.save({\n",
        "            'epoch': epoch,\n",
        "            'model_state_dict': model.state_dict(),\n",
        "            'optimizer_state_dict': optimizer.state_dict(),\n",
        "            'loss': avg_loss,\n",
        "        }, \"best_model.pt\")\n",
        "    else:\n",
        "        counter += 1\n",
        "\n",
        "    if counter >= patience:\n",
        "        print(f\"Early stopping triggered at epoch {epoch+1}\")\n",
        "        break\n",
        "\n",
        "# --- 학습 곡선 그리기 ---\n",
        "plt.figure(figsize=(10,5))\n",
        "plt.plot(train_losses, label=\"Train Loss\")\n",
        "plt.plot(val_aspect_accs, label=\"Aspect Acc\")\n",
        "plt.plot(val_polarity_accs, label=\"Polarity Acc\")\n",
        "plt.xlabel(\"Epoch\")\n",
        "plt.ylabel(\"Value\")\n",
        "plt.legend()\n",
        "plt.title(\"Training Curve\")\n",
        "plt.savefig(\"training_curve.png\")\n",
        "plt.show()\n"
      ]
    },
    {
      "cell_type": "code",
      "source": [],
      "metadata": {
        "id": "NNk8Rz5vno5x"
      },
      "id": "NNk8Rz5vno5x",
      "execution_count": null,
      "outputs": []
    }
  ],
  "metadata": {
    "kernelspec": {
      "display_name": "Python 3",
      "name": "python3"
    },
    "language_info": {
      "codemirror_mode": {
        "name": "ipython",
        "version": 3
      },
      "file_extension": ".py",
      "mimetype": "text/x-python",
      "name": "python",
      "nbconvert_exporter": "python",
      "pygments_lexer": "ipython3",
      "version": "3.11.13"
    },
    "colab": {
      "provenance": [],
      "gpuType": "T4"
    },
    "accelerator": "GPU",
    "widgets": {
      "application/vnd.jupyter.widget-state+json": {
        "4178550392314367b942e0b20d7b66e4": {
          "model_module": "@jupyter-widgets/controls",
          "model_name": "HBoxModel",
          "model_module_version": "1.5.0",
          "state": {
            "_dom_classes": [],
            "_model_module": "@jupyter-widgets/controls",
            "_model_module_version": "1.5.0",
            "_model_name": "HBoxModel",
            "_view_count": null,
            "_view_module": "@jupyter-widgets/controls",
            "_view_module_version": "1.5.0",
            "_view_name": "HBoxView",
            "box_style": "",
            "children": [
              "IPY_MODEL_ffa3fa7a925e4b2bbeca64d5e2f2ed32",
              "IPY_MODEL_a512b94a5c58423f8e1d84d49da78968",
              "IPY_MODEL_fb04e2aa0f934ea8a887571bea7fd418"
            ],
            "layout": "IPY_MODEL_62114574b8d4408c969431839f1070eb"
          }
        },
        "ffa3fa7a925e4b2bbeca64d5e2f2ed32": {
          "model_module": "@jupyter-widgets/controls",
          "model_name": "HTMLModel",
          "model_module_version": "1.5.0",
          "state": {
            "_dom_classes": [],
            "_model_module": "@jupyter-widgets/controls",
            "_model_module_version": "1.5.0",
            "_model_name": "HTMLModel",
            "_view_count": null,
            "_view_module": "@jupyter-widgets/controls",
            "_view_module_version": "1.5.0",
            "_view_name": "HTMLView",
            "description": "",
            "description_tooltip": null,
            "layout": "IPY_MODEL_945002f2743643c59cfdfffff923dff6",
            "placeholder": "​",
            "style": "IPY_MODEL_b21dae8360304b2b832c56f2c32e3066",
            "value": "tokenizer_config.json: 100%"
          }
        },
        "a512b94a5c58423f8e1d84d49da78968": {
          "model_module": "@jupyter-widgets/controls",
          "model_name": "FloatProgressModel",
          "model_module_version": "1.5.0",
          "state": {
            "_dom_classes": [],
            "_model_module": "@jupyter-widgets/controls",
            "_model_module_version": "1.5.0",
            "_model_name": "FloatProgressModel",
            "_view_count": null,
            "_view_module": "@jupyter-widgets/controls",
            "_view_module_version": "1.5.0",
            "_view_name": "ProgressView",
            "bar_style": "success",
            "description": "",
            "description_tooltip": null,
            "layout": "IPY_MODEL_d7f1915796fe4e90a7cf75710b2b8163",
            "max": 61,
            "min": 0,
            "orientation": "horizontal",
            "style": "IPY_MODEL_1be8c0eac43f4415bcecf7c878f19fe8",
            "value": 61
          }
        },
        "fb04e2aa0f934ea8a887571bea7fd418": {
          "model_module": "@jupyter-widgets/controls",
          "model_name": "HTMLModel",
          "model_module_version": "1.5.0",
          "state": {
            "_dom_classes": [],
            "_model_module": "@jupyter-widgets/controls",
            "_model_module_version": "1.5.0",
            "_model_name": "HTMLModel",
            "_view_count": null,
            "_view_module": "@jupyter-widgets/controls",
            "_view_module_version": "1.5.0",
            "_view_name": "HTMLView",
            "description": "",
            "description_tooltip": null,
            "layout": "IPY_MODEL_517d7653b2de4d2cb311403c7b5ff6de",
            "placeholder": "​",
            "style": "IPY_MODEL_bf93405ac9354b25831377338aedcbe1",
            "value": " 61.0/61.0 [00:00&lt;00:00, 1.98kB/s]"
          }
        },
        "62114574b8d4408c969431839f1070eb": {
          "model_module": "@jupyter-widgets/base",
          "model_name": "LayoutModel",
          "model_module_version": "1.2.0",
          "state": {
            "_model_module": "@jupyter-widgets/base",
            "_model_module_version": "1.2.0",
            "_model_name": "LayoutModel",
            "_view_count": null,
            "_view_module": "@jupyter-widgets/base",
            "_view_module_version": "1.2.0",
            "_view_name": "LayoutView",
            "align_content": null,
            "align_items": null,
            "align_self": null,
            "border": null,
            "bottom": null,
            "display": null,
            "flex": null,
            "flex_flow": null,
            "grid_area": null,
            "grid_auto_columns": null,
            "grid_auto_flow": null,
            "grid_auto_rows": null,
            "grid_column": null,
            "grid_gap": null,
            "grid_row": null,
            "grid_template_areas": null,
            "grid_template_columns": null,
            "grid_template_rows": null,
            "height": null,
            "justify_content": null,
            "justify_items": null,
            "left": null,
            "margin": null,
            "max_height": null,
            "max_width": null,
            "min_height": null,
            "min_width": null,
            "object_fit": null,
            "object_position": null,
            "order": null,
            "overflow": null,
            "overflow_x": null,
            "overflow_y": null,
            "padding": null,
            "right": null,
            "top": null,
            "visibility": null,
            "width": null
          }
        },
        "945002f2743643c59cfdfffff923dff6": {
          "model_module": "@jupyter-widgets/base",
          "model_name": "LayoutModel",
          "model_module_version": "1.2.0",
          "state": {
            "_model_module": "@jupyter-widgets/base",
            "_model_module_version": "1.2.0",
            "_model_name": "LayoutModel",
            "_view_count": null,
            "_view_module": "@jupyter-widgets/base",
            "_view_module_version": "1.2.0",
            "_view_name": "LayoutView",
            "align_content": null,
            "align_items": null,
            "align_self": null,
            "border": null,
            "bottom": null,
            "display": null,
            "flex": null,
            "flex_flow": null,
            "grid_area": null,
            "grid_auto_columns": null,
            "grid_auto_flow": null,
            "grid_auto_rows": null,
            "grid_column": null,
            "grid_gap": null,
            "grid_row": null,
            "grid_template_areas": null,
            "grid_template_columns": null,
            "grid_template_rows": null,
            "height": null,
            "justify_content": null,
            "justify_items": null,
            "left": null,
            "margin": null,
            "max_height": null,
            "max_width": null,
            "min_height": null,
            "min_width": null,
            "object_fit": null,
            "object_position": null,
            "order": null,
            "overflow": null,
            "overflow_x": null,
            "overflow_y": null,
            "padding": null,
            "right": null,
            "top": null,
            "visibility": null,
            "width": null
          }
        },
        "b21dae8360304b2b832c56f2c32e3066": {
          "model_module": "@jupyter-widgets/controls",
          "model_name": "DescriptionStyleModel",
          "model_module_version": "1.5.0",
          "state": {
            "_model_module": "@jupyter-widgets/controls",
            "_model_module_version": "1.5.0",
            "_model_name": "DescriptionStyleModel",
            "_view_count": null,
            "_view_module": "@jupyter-widgets/base",
            "_view_module_version": "1.2.0",
            "_view_name": "StyleView",
            "description_width": ""
          }
        },
        "d7f1915796fe4e90a7cf75710b2b8163": {
          "model_module": "@jupyter-widgets/base",
          "model_name": "LayoutModel",
          "model_module_version": "1.2.0",
          "state": {
            "_model_module": "@jupyter-widgets/base",
            "_model_module_version": "1.2.0",
            "_model_name": "LayoutModel",
            "_view_count": null,
            "_view_module": "@jupyter-widgets/base",
            "_view_module_version": "1.2.0",
            "_view_name": "LayoutView",
            "align_content": null,
            "align_items": null,
            "align_self": null,
            "border": null,
            "bottom": null,
            "display": null,
            "flex": null,
            "flex_flow": null,
            "grid_area": null,
            "grid_auto_columns": null,
            "grid_auto_flow": null,
            "grid_auto_rows": null,
            "grid_column": null,
            "grid_gap": null,
            "grid_row": null,
            "grid_template_areas": null,
            "grid_template_columns": null,
            "grid_template_rows": null,
            "height": null,
            "justify_content": null,
            "justify_items": null,
            "left": null,
            "margin": null,
            "max_height": null,
            "max_width": null,
            "min_height": null,
            "min_width": null,
            "object_fit": null,
            "object_position": null,
            "order": null,
            "overflow": null,
            "overflow_x": null,
            "overflow_y": null,
            "padding": null,
            "right": null,
            "top": null,
            "visibility": null,
            "width": null
          }
        },
        "1be8c0eac43f4415bcecf7c878f19fe8": {
          "model_module": "@jupyter-widgets/controls",
          "model_name": "ProgressStyleModel",
          "model_module_version": "1.5.0",
          "state": {
            "_model_module": "@jupyter-widgets/controls",
            "_model_module_version": "1.5.0",
            "_model_name": "ProgressStyleModel",
            "_view_count": null,
            "_view_module": "@jupyter-widgets/base",
            "_view_module_version": "1.2.0",
            "_view_name": "StyleView",
            "bar_color": null,
            "description_width": ""
          }
        },
        "517d7653b2de4d2cb311403c7b5ff6de": {
          "model_module": "@jupyter-widgets/base",
          "model_name": "LayoutModel",
          "model_module_version": "1.2.0",
          "state": {
            "_model_module": "@jupyter-widgets/base",
            "_model_module_version": "1.2.0",
            "_model_name": "LayoutModel",
            "_view_count": null,
            "_view_module": "@jupyter-widgets/base",
            "_view_module_version": "1.2.0",
            "_view_name": "LayoutView",
            "align_content": null,
            "align_items": null,
            "align_self": null,
            "border": null,
            "bottom": null,
            "display": null,
            "flex": null,
            "flex_flow": null,
            "grid_area": null,
            "grid_auto_columns": null,
            "grid_auto_flow": null,
            "grid_auto_rows": null,
            "grid_column": null,
            "grid_gap": null,
            "grid_row": null,
            "grid_template_areas": null,
            "grid_template_columns": null,
            "grid_template_rows": null,
            "height": null,
            "justify_content": null,
            "justify_items": null,
            "left": null,
            "margin": null,
            "max_height": null,
            "max_width": null,
            "min_height": null,
            "min_width": null,
            "object_fit": null,
            "object_position": null,
            "order": null,
            "overflow": null,
            "overflow_x": null,
            "overflow_y": null,
            "padding": null,
            "right": null,
            "top": null,
            "visibility": null,
            "width": null
          }
        },
        "bf93405ac9354b25831377338aedcbe1": {
          "model_module": "@jupyter-widgets/controls",
          "model_name": "DescriptionStyleModel",
          "model_module_version": "1.5.0",
          "state": {
            "_model_module": "@jupyter-widgets/controls",
            "_model_module_version": "1.5.0",
            "_model_name": "DescriptionStyleModel",
            "_view_count": null,
            "_view_module": "@jupyter-widgets/base",
            "_view_module_version": "1.2.0",
            "_view_name": "StyleView",
            "description_width": ""
          }
        },
        "69fe2dc8ffe645779778d9d3040daba4": {
          "model_module": "@jupyter-widgets/controls",
          "model_name": "HBoxModel",
          "model_module_version": "1.5.0",
          "state": {
            "_dom_classes": [],
            "_model_module": "@jupyter-widgets/controls",
            "_model_module_version": "1.5.0",
            "_model_name": "HBoxModel",
            "_view_count": null,
            "_view_module": "@jupyter-widgets/controls",
            "_view_module_version": "1.5.0",
            "_view_name": "HBoxView",
            "box_style": "",
            "children": [
              "IPY_MODEL_4c187261ae7f4a5db8a96e3dcc36f3fc",
              "IPY_MODEL_10db827befd14a5eaf5ebede58b165b8",
              "IPY_MODEL_b9da2a9cb83d44b1b337652a75dbfc02"
            ],
            "layout": "IPY_MODEL_1b54f9f35649423991d38cf91ca413cf"
          }
        },
        "4c187261ae7f4a5db8a96e3dcc36f3fc": {
          "model_module": "@jupyter-widgets/controls",
          "model_name": "HTMLModel",
          "model_module_version": "1.5.0",
          "state": {
            "_dom_classes": [],
            "_model_module": "@jupyter-widgets/controls",
            "_model_module_version": "1.5.0",
            "_model_name": "HTMLModel",
            "_view_count": null,
            "_view_module": "@jupyter-widgets/controls",
            "_view_module_version": "1.5.0",
            "_view_name": "HTMLView",
            "description": "",
            "description_tooltip": null,
            "layout": "IPY_MODEL_3f411b8da8454337a3c080e0b66768b9",
            "placeholder": "​",
            "style": "IPY_MODEL_b94616e779a741bfb148411794aa3e9e",
            "value": "config.json: 100%"
          }
        },
        "10db827befd14a5eaf5ebede58b165b8": {
          "model_module": "@jupyter-widgets/controls",
          "model_name": "FloatProgressModel",
          "model_module_version": "1.5.0",
          "state": {
            "_dom_classes": [],
            "_model_module": "@jupyter-widgets/controls",
            "_model_module_version": "1.5.0",
            "_model_name": "FloatProgressModel",
            "_view_count": null,
            "_view_module": "@jupyter-widgets/controls",
            "_view_module_version": "1.5.0",
            "_view_name": "ProgressView",
            "bar_style": "success",
            "description": "",
            "description_tooltip": null,
            "layout": "IPY_MODEL_af9a62b8b3424625a607fb5aeabc219b",
            "max": 467,
            "min": 0,
            "orientation": "horizontal",
            "style": "IPY_MODEL_da2a6c5f293c4924aade2c253f10e866",
            "value": 467
          }
        },
        "b9da2a9cb83d44b1b337652a75dbfc02": {
          "model_module": "@jupyter-widgets/controls",
          "model_name": "HTMLModel",
          "model_module_version": "1.5.0",
          "state": {
            "_dom_classes": [],
            "_model_module": "@jupyter-widgets/controls",
            "_model_module_version": "1.5.0",
            "_model_name": "HTMLModel",
            "_view_count": null,
            "_view_module": "@jupyter-widgets/controls",
            "_view_module_version": "1.5.0",
            "_view_name": "HTMLView",
            "description": "",
            "description_tooltip": null,
            "layout": "IPY_MODEL_922f38ef2ac24c9088dad40285721767",
            "placeholder": "​",
            "style": "IPY_MODEL_b76d072ac3f341448bcd72d05d21b50a",
            "value": " 467/467 [00:00&lt;00:00, 9.07kB/s]"
          }
        },
        "1b54f9f35649423991d38cf91ca413cf": {
          "model_module": "@jupyter-widgets/base",
          "model_name": "LayoutModel",
          "model_module_version": "1.2.0",
          "state": {
            "_model_module": "@jupyter-widgets/base",
            "_model_module_version": "1.2.0",
            "_model_name": "LayoutModel",
            "_view_count": null,
            "_view_module": "@jupyter-widgets/base",
            "_view_module_version": "1.2.0",
            "_view_name": "LayoutView",
            "align_content": null,
            "align_items": null,
            "align_self": null,
            "border": null,
            "bottom": null,
            "display": null,
            "flex": null,
            "flex_flow": null,
            "grid_area": null,
            "grid_auto_columns": null,
            "grid_auto_flow": null,
            "grid_auto_rows": null,
            "grid_column": null,
            "grid_gap": null,
            "grid_row": null,
            "grid_template_areas": null,
            "grid_template_columns": null,
            "grid_template_rows": null,
            "height": null,
            "justify_content": null,
            "justify_items": null,
            "left": null,
            "margin": null,
            "max_height": null,
            "max_width": null,
            "min_height": null,
            "min_width": null,
            "object_fit": null,
            "object_position": null,
            "order": null,
            "overflow": null,
            "overflow_x": null,
            "overflow_y": null,
            "padding": null,
            "right": null,
            "top": null,
            "visibility": null,
            "width": null
          }
        },
        "3f411b8da8454337a3c080e0b66768b9": {
          "model_module": "@jupyter-widgets/base",
          "model_name": "LayoutModel",
          "model_module_version": "1.2.0",
          "state": {
            "_model_module": "@jupyter-widgets/base",
            "_model_module_version": "1.2.0",
            "_model_name": "LayoutModel",
            "_view_count": null,
            "_view_module": "@jupyter-widgets/base",
            "_view_module_version": "1.2.0",
            "_view_name": "LayoutView",
            "align_content": null,
            "align_items": null,
            "align_self": null,
            "border": null,
            "bottom": null,
            "display": null,
            "flex": null,
            "flex_flow": null,
            "grid_area": null,
            "grid_auto_columns": null,
            "grid_auto_flow": null,
            "grid_auto_rows": null,
            "grid_column": null,
            "grid_gap": null,
            "grid_row": null,
            "grid_template_areas": null,
            "grid_template_columns": null,
            "grid_template_rows": null,
            "height": null,
            "justify_content": null,
            "justify_items": null,
            "left": null,
            "margin": null,
            "max_height": null,
            "max_width": null,
            "min_height": null,
            "min_width": null,
            "object_fit": null,
            "object_position": null,
            "order": null,
            "overflow": null,
            "overflow_x": null,
            "overflow_y": null,
            "padding": null,
            "right": null,
            "top": null,
            "visibility": null,
            "width": null
          }
        },
        "b94616e779a741bfb148411794aa3e9e": {
          "model_module": "@jupyter-widgets/controls",
          "model_name": "DescriptionStyleModel",
          "model_module_version": "1.5.0",
          "state": {
            "_model_module": "@jupyter-widgets/controls",
            "_model_module_version": "1.5.0",
            "_model_name": "DescriptionStyleModel",
            "_view_count": null,
            "_view_module": "@jupyter-widgets/base",
            "_view_module_version": "1.2.0",
            "_view_name": "StyleView",
            "description_width": ""
          }
        },
        "af9a62b8b3424625a607fb5aeabc219b": {
          "model_module": "@jupyter-widgets/base",
          "model_name": "LayoutModel",
          "model_module_version": "1.2.0",
          "state": {
            "_model_module": "@jupyter-widgets/base",
            "_model_module_version": "1.2.0",
            "_model_name": "LayoutModel",
            "_view_count": null,
            "_view_module": "@jupyter-widgets/base",
            "_view_module_version": "1.2.0",
            "_view_name": "LayoutView",
            "align_content": null,
            "align_items": null,
            "align_self": null,
            "border": null,
            "bottom": null,
            "display": null,
            "flex": null,
            "flex_flow": null,
            "grid_area": null,
            "grid_auto_columns": null,
            "grid_auto_flow": null,
            "grid_auto_rows": null,
            "grid_column": null,
            "grid_gap": null,
            "grid_row": null,
            "grid_template_areas": null,
            "grid_template_columns": null,
            "grid_template_rows": null,
            "height": null,
            "justify_content": null,
            "justify_items": null,
            "left": null,
            "margin": null,
            "max_height": null,
            "max_width": null,
            "min_height": null,
            "min_width": null,
            "object_fit": null,
            "object_position": null,
            "order": null,
            "overflow": null,
            "overflow_x": null,
            "overflow_y": null,
            "padding": null,
            "right": null,
            "top": null,
            "visibility": null,
            "width": null
          }
        },
        "da2a6c5f293c4924aade2c253f10e866": {
          "model_module": "@jupyter-widgets/controls",
          "model_name": "ProgressStyleModel",
          "model_module_version": "1.5.0",
          "state": {
            "_model_module": "@jupyter-widgets/controls",
            "_model_module_version": "1.5.0",
            "_model_name": "ProgressStyleModel",
            "_view_count": null,
            "_view_module": "@jupyter-widgets/base",
            "_view_module_version": "1.2.0",
            "_view_name": "StyleView",
            "bar_color": null,
            "description_width": ""
          }
        },
        "922f38ef2ac24c9088dad40285721767": {
          "model_module": "@jupyter-widgets/base",
          "model_name": "LayoutModel",
          "model_module_version": "1.2.0",
          "state": {
            "_model_module": "@jupyter-widgets/base",
            "_model_module_version": "1.2.0",
            "_model_name": "LayoutModel",
            "_view_count": null,
            "_view_module": "@jupyter-widgets/base",
            "_view_module_version": "1.2.0",
            "_view_name": "LayoutView",
            "align_content": null,
            "align_items": null,
            "align_self": null,
            "border": null,
            "bottom": null,
            "display": null,
            "flex": null,
            "flex_flow": null,
            "grid_area": null,
            "grid_auto_columns": null,
            "grid_auto_flow": null,
            "grid_auto_rows": null,
            "grid_column": null,
            "grid_gap": null,
            "grid_row": null,
            "grid_template_areas": null,
            "grid_template_columns": null,
            "grid_template_rows": null,
            "height": null,
            "justify_content": null,
            "justify_items": null,
            "left": null,
            "margin": null,
            "max_height": null,
            "max_width": null,
            "min_height": null,
            "min_width": null,
            "object_fit": null,
            "object_position": null,
            "order": null,
            "overflow": null,
            "overflow_x": null,
            "overflow_y": null,
            "padding": null,
            "right": null,
            "top": null,
            "visibility": null,
            "width": null
          }
        },
        "b76d072ac3f341448bcd72d05d21b50a": {
          "model_module": "@jupyter-widgets/controls",
          "model_name": "DescriptionStyleModel",
          "model_module_version": "1.5.0",
          "state": {
            "_model_module": "@jupyter-widgets/controls",
            "_model_module_version": "1.5.0",
            "_model_name": "DescriptionStyleModel",
            "_view_count": null,
            "_view_module": "@jupyter-widgets/base",
            "_view_module_version": "1.2.0",
            "_view_name": "StyleView",
            "description_width": ""
          }
        },
        "d8e121eda9f54f7e80f287c400d460bc": {
          "model_module": "@jupyter-widgets/controls",
          "model_name": "HBoxModel",
          "model_module_version": "1.5.0",
          "state": {
            "_dom_classes": [],
            "_model_module": "@jupyter-widgets/controls",
            "_model_module_version": "1.5.0",
            "_model_name": "HBoxModel",
            "_view_count": null,
            "_view_module": "@jupyter-widgets/controls",
            "_view_module_version": "1.5.0",
            "_view_name": "HBoxView",
            "box_style": "",
            "children": [
              "IPY_MODEL_ecf4b781438945388f487c2f5dd3afd2",
              "IPY_MODEL_1f95e061e366403c8ef5992354ca4018",
              "IPY_MODEL_a6f144d6a529460a9f6b84d5bac555d1"
            ],
            "layout": "IPY_MODEL_a11469aac9b14a53a96cce0a8f5d2740"
          }
        },
        "ecf4b781438945388f487c2f5dd3afd2": {
          "model_module": "@jupyter-widgets/controls",
          "model_name": "HTMLModel",
          "model_module_version": "1.5.0",
          "state": {
            "_dom_classes": [],
            "_model_module": "@jupyter-widgets/controls",
            "_model_module_version": "1.5.0",
            "_model_name": "HTMLModel",
            "_view_count": null,
            "_view_module": "@jupyter-widgets/controls",
            "_view_module_version": "1.5.0",
            "_view_name": "HTMLView",
            "description": "",
            "description_tooltip": null,
            "layout": "IPY_MODEL_51cf8af18bd944718568d8e3428e936a",
            "placeholder": "​",
            "style": "IPY_MODEL_23ba792e460f4141ab1872638fd6e6e6",
            "value": "vocab.txt: "
          }
        },
        "1f95e061e366403c8ef5992354ca4018": {
          "model_module": "@jupyter-widgets/controls",
          "model_name": "FloatProgressModel",
          "model_module_version": "1.5.0",
          "state": {
            "_dom_classes": [],
            "_model_module": "@jupyter-widgets/controls",
            "_model_module_version": "1.5.0",
            "_model_name": "FloatProgressModel",
            "_view_count": null,
            "_view_module": "@jupyter-widgets/controls",
            "_view_module_version": "1.5.0",
            "_view_name": "ProgressView",
            "bar_style": "success",
            "description": "",
            "description_tooltip": null,
            "layout": "IPY_MODEL_f0ee22781cc44812a437a41e26f0531c",
            "max": 1,
            "min": 0,
            "orientation": "horizontal",
            "style": "IPY_MODEL_f37b11e6e3fe4c1899b1aec9c5cbdbb1",
            "value": 1
          }
        },
        "a6f144d6a529460a9f6b84d5bac555d1": {
          "model_module": "@jupyter-widgets/controls",
          "model_name": "HTMLModel",
          "model_module_version": "1.5.0",
          "state": {
            "_dom_classes": [],
            "_model_module": "@jupyter-widgets/controls",
            "_model_module_version": "1.5.0",
            "_model_name": "HTMLModel",
            "_view_count": null,
            "_view_module": "@jupyter-widgets/controls",
            "_view_module_version": "1.5.0",
            "_view_name": "HTMLView",
            "description": "",
            "description_tooltip": null,
            "layout": "IPY_MODEL_b403a9d8e87d409eacb0b8858fd63aa2",
            "placeholder": "​",
            "style": "IPY_MODEL_1c58b724d0384f3e9e65204b2f72e60b",
            "value": " 263k/? [00:00&lt;00:00, 4.35MB/s]"
          }
        },
        "a11469aac9b14a53a96cce0a8f5d2740": {
          "model_module": "@jupyter-widgets/base",
          "model_name": "LayoutModel",
          "model_module_version": "1.2.0",
          "state": {
            "_model_module": "@jupyter-widgets/base",
            "_model_module_version": "1.2.0",
            "_model_name": "LayoutModel",
            "_view_count": null,
            "_view_module": "@jupyter-widgets/base",
            "_view_module_version": "1.2.0",
            "_view_name": "LayoutView",
            "align_content": null,
            "align_items": null,
            "align_self": null,
            "border": null,
            "bottom": null,
            "display": null,
            "flex": null,
            "flex_flow": null,
            "grid_area": null,
            "grid_auto_columns": null,
            "grid_auto_flow": null,
            "grid_auto_rows": null,
            "grid_column": null,
            "grid_gap": null,
            "grid_row": null,
            "grid_template_areas": null,
            "grid_template_columns": null,
            "grid_template_rows": null,
            "height": null,
            "justify_content": null,
            "justify_items": null,
            "left": null,
            "margin": null,
            "max_height": null,
            "max_width": null,
            "min_height": null,
            "min_width": null,
            "object_fit": null,
            "object_position": null,
            "order": null,
            "overflow": null,
            "overflow_x": null,
            "overflow_y": null,
            "padding": null,
            "right": null,
            "top": null,
            "visibility": null,
            "width": null
          }
        },
        "51cf8af18bd944718568d8e3428e936a": {
          "model_module": "@jupyter-widgets/base",
          "model_name": "LayoutModel",
          "model_module_version": "1.2.0",
          "state": {
            "_model_module": "@jupyter-widgets/base",
            "_model_module_version": "1.2.0",
            "_model_name": "LayoutModel",
            "_view_count": null,
            "_view_module": "@jupyter-widgets/base",
            "_view_module_version": "1.2.0",
            "_view_name": "LayoutView",
            "align_content": null,
            "align_items": null,
            "align_self": null,
            "border": null,
            "bottom": null,
            "display": null,
            "flex": null,
            "flex_flow": null,
            "grid_area": null,
            "grid_auto_columns": null,
            "grid_auto_flow": null,
            "grid_auto_rows": null,
            "grid_column": null,
            "grid_gap": null,
            "grid_row": null,
            "grid_template_areas": null,
            "grid_template_columns": null,
            "grid_template_rows": null,
            "height": null,
            "justify_content": null,
            "justify_items": null,
            "left": null,
            "margin": null,
            "max_height": null,
            "max_width": null,
            "min_height": null,
            "min_width": null,
            "object_fit": null,
            "object_position": null,
            "order": null,
            "overflow": null,
            "overflow_x": null,
            "overflow_y": null,
            "padding": null,
            "right": null,
            "top": null,
            "visibility": null,
            "width": null
          }
        },
        "23ba792e460f4141ab1872638fd6e6e6": {
          "model_module": "@jupyter-widgets/controls",
          "model_name": "DescriptionStyleModel",
          "model_module_version": "1.5.0",
          "state": {
            "_model_module": "@jupyter-widgets/controls",
            "_model_module_version": "1.5.0",
            "_model_name": "DescriptionStyleModel",
            "_view_count": null,
            "_view_module": "@jupyter-widgets/base",
            "_view_module_version": "1.2.0",
            "_view_name": "StyleView",
            "description_width": ""
          }
        },
        "f0ee22781cc44812a437a41e26f0531c": {
          "model_module": "@jupyter-widgets/base",
          "model_name": "LayoutModel",
          "model_module_version": "1.2.0",
          "state": {
            "_model_module": "@jupyter-widgets/base",
            "_model_module_version": "1.2.0",
            "_model_name": "LayoutModel",
            "_view_count": null,
            "_view_module": "@jupyter-widgets/base",
            "_view_module_version": "1.2.0",
            "_view_name": "LayoutView",
            "align_content": null,
            "align_items": null,
            "align_self": null,
            "border": null,
            "bottom": null,
            "display": null,
            "flex": null,
            "flex_flow": null,
            "grid_area": null,
            "grid_auto_columns": null,
            "grid_auto_flow": null,
            "grid_auto_rows": null,
            "grid_column": null,
            "grid_gap": null,
            "grid_row": null,
            "grid_template_areas": null,
            "grid_template_columns": null,
            "grid_template_rows": null,
            "height": null,
            "justify_content": null,
            "justify_items": null,
            "left": null,
            "margin": null,
            "max_height": null,
            "max_width": null,
            "min_height": null,
            "min_width": null,
            "object_fit": null,
            "object_position": null,
            "order": null,
            "overflow": null,
            "overflow_x": null,
            "overflow_y": null,
            "padding": null,
            "right": null,
            "top": null,
            "visibility": null,
            "width": "20px"
          }
        },
        "f37b11e6e3fe4c1899b1aec9c5cbdbb1": {
          "model_module": "@jupyter-widgets/controls",
          "model_name": "ProgressStyleModel",
          "model_module_version": "1.5.0",
          "state": {
            "_model_module": "@jupyter-widgets/controls",
            "_model_module_version": "1.5.0",
            "_model_name": "ProgressStyleModel",
            "_view_count": null,
            "_view_module": "@jupyter-widgets/base",
            "_view_module_version": "1.2.0",
            "_view_name": "StyleView",
            "bar_color": null,
            "description_width": ""
          }
        },
        "b403a9d8e87d409eacb0b8858fd63aa2": {
          "model_module": "@jupyter-widgets/base",
          "model_name": "LayoutModel",
          "model_module_version": "1.2.0",
          "state": {
            "_model_module": "@jupyter-widgets/base",
            "_model_module_version": "1.2.0",
            "_model_name": "LayoutModel",
            "_view_count": null,
            "_view_module": "@jupyter-widgets/base",
            "_view_module_version": "1.2.0",
            "_view_name": "LayoutView",
            "align_content": null,
            "align_items": null,
            "align_self": null,
            "border": null,
            "bottom": null,
            "display": null,
            "flex": null,
            "flex_flow": null,
            "grid_area": null,
            "grid_auto_columns": null,
            "grid_auto_flow": null,
            "grid_auto_rows": null,
            "grid_column": null,
            "grid_gap": null,
            "grid_row": null,
            "grid_template_areas": null,
            "grid_template_columns": null,
            "grid_template_rows": null,
            "height": null,
            "justify_content": null,
            "justify_items": null,
            "left": null,
            "margin": null,
            "max_height": null,
            "max_width": null,
            "min_height": null,
            "min_width": null,
            "object_fit": null,
            "object_position": null,
            "order": null,
            "overflow": null,
            "overflow_x": null,
            "overflow_y": null,
            "padding": null,
            "right": null,
            "top": null,
            "visibility": null,
            "width": null
          }
        },
        "1c58b724d0384f3e9e65204b2f72e60b": {
          "model_module": "@jupyter-widgets/controls",
          "model_name": "DescriptionStyleModel",
          "model_module_version": "1.5.0",
          "state": {
            "_model_module": "@jupyter-widgets/controls",
            "_model_module_version": "1.5.0",
            "_model_name": "DescriptionStyleModel",
            "_view_count": null,
            "_view_module": "@jupyter-widgets/base",
            "_view_module_version": "1.2.0",
            "_view_name": "StyleView",
            "description_width": ""
          }
        }
      }
    }
  },
  "nbformat": 4,
  "nbformat_minor": 5
}